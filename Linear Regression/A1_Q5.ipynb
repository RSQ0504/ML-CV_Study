{
  "cells": [
    {
      "cell_type": "markdown",
      "metadata": {
        "id": "v-uhUTX_W9E6"
      },
      "source": [
        "# CMPT 726/410 Assignment 1 Question 5\n",
        "\n",
        "Import necessary Python packages."
      ]
    },
    {
      "cell_type": "code",
      "execution_count": 37,
      "metadata": {
        "execution": {
          "iopub.execute_input": "2021-02-07T09:40:00.633Z",
          "iopub.status.busy": "2021-02-07T09:40:00.617Z",
          "iopub.status.idle": "2021-02-07T09:40:01.101Z",
          "shell.execute_reply": "2021-02-07T09:40:01.116Z"
        },
        "id": "-6Bx4o3EW9E8"
      },
      "outputs": [],
      "source": [
        "import numpy as np\n",
        "import scipy.io\n",
        "path_prefix = \"\""
      ]
    },
    {
      "cell_type": "markdown",
      "metadata": {
        "id": "fjpQqc2Bm7Fh"
      },
      "source": [
        "If running on Google Colab, execute the following block of code; otherwise, skip the block below. "
      ]
    },
    {
      "cell_type": "code",
      "execution_count": null,
      "metadata": {
        "id": "c6TZM8lwlV0Q"
      },
      "outputs": [],
      "source": [
        "from google.colab import drive\n",
        "drive.mount('/content/gdrive')\n",
        "path_prefix = \"/content/gdrive/My Drive/CMPT726-410_A1_Starter_Code/\""
      ]
    },
    {
      "cell_type": "markdown",
      "metadata": {
        "id": "pAsDP8YNW9E9"
      },
      "source": [
        "## Part (b)"
      ]
    },
    {
      "cell_type": "code",
      "execution_count": 38,
      "metadata": {
        "execution": {
          "iopub.execute_input": "2021-02-07T09:40:06.210Z",
          "iopub.status.busy": "2021-02-07T09:40:06.199Z",
          "iopub.status.idle": "2021-02-07T09:40:06.231Z",
          "shell.execute_reply": "2021-02-07T09:40:06.250Z"
        },
        "id": "sjNx50_aW9E9"
      },
      "outputs": [
        {
          "name": "stdout",
          "output_type": "stream",
          "text": [
            "A: 0.9775521351844122, B: -0.08775321877345633\n"
          ]
        }
      ],
      "source": [
        "mdict = scipy.io.loadmat(\"{}a.mat\".format(path_prefix))\n",
        "x = mdict['x'][0]\n",
        "u = mdict['u'][0]\n",
        "\n",
        "# Required: write code below that produces two variables, A and B, which\n",
        "# are scalars of type numpy.float64 that represent the model parameters \n",
        "# A and B\n",
        "\n",
        "### start 1 ###\n",
        "W  = np.array([0,0])\n",
        "Vx = np.array(x)\n",
        "Y  = Vx[1:]\n",
        "Vx = Vx[:-1]\n",
        "Vu = np.array(u)\n",
        "Vu = Vu[:-1]\n",
        "X  = np.column_stack((Vx, Vu))\n",
        "W = np.linalg.inv((X.T).dot(X)).dot(X.T).dot(Y)\n",
        "\n",
        "A = W[0]\n",
        "B = W[1]\n",
        "#sizex = X.shape\n",
        "#sizeY = Y.shape\n",
        "#print(sizex)\n",
        "#print(sizeY)\n",
        "### end 1 ###\n",
        "\n",
        "# Do not modify the lines below\n",
        "assert(isinstance(A, np.float64))\n",
        "assert(isinstance(B, np.float64))\n",
        "\n",
        "print(\"A: {}, B: {}\".format(A, B))"
      ]
    },
    {
      "cell_type": "markdown",
      "metadata": {
        "id": "RkgKLbTuW9E-"
      },
      "source": [
        "## Part (d)"
      ]
    },
    {
      "cell_type": "code",
      "execution_count": 39,
      "metadata": {
        "execution": {
          "iopub.execute_input": "2021-02-07T09:50:31.685Z",
          "iopub.status.busy": "2021-02-07T09:50:31.681Z",
          "iopub.status.idle": "2021-02-07T09:50:31.698Z",
          "shell.execute_reply": "2021-02-07T09:50:31.703Z"
        },
        "id": "yLW88GimW9E-"
      },
      "outputs": [
        {
          "name": "stdout",
          "output_type": "stream",
          "text": [
            "A: \n",
            "[[ 0.15207406  0.93480864 -0.00110243]\n",
            " [ 0.03893567  0.30958727  0.87436511]\n",
            " [-0.52552959  0.0540906  -0.47026217]], \n",
            "B: \n",
            "[[ 0.04894161  0.20568264 -0.37090438]\n",
            " [-0.04524735 -0.92861546  0.12756569]\n",
            " [ 0.91096923 -0.47124981 -0.84222314]]\n"
          ]
        }
      ],
      "source": [
        "mdict = scipy.io.loadmat(\"{}b.mat\".format(path_prefix))\n",
        "X_raw = mdict['x']\n",
        "U_raw = mdict['u']\n",
        "\n",
        "# Required: write code below that produces two variables, A and B, which\n",
        "# are 3 x 3 float64 matrices of type numpy.ndarray that represent the \n",
        "# model parameters A and B\n",
        "\n",
        "### start 2 ###\n",
        "Vx = np.array(X_raw)\n",
        "Vx = Vx[:,:,0]\n",
        "Y  = Vx[1:]\n",
        "Vx = Vx[:-1]\n",
        "Vu = np.array(U_raw)\n",
        "Vu = Vu[:,:,0]\n",
        "Vu = Vu[:-1]\n",
        "X  = np.column_stack((Vx, Vu))\n",
        "W = np.linalg.inv((X.T).dot(X)).dot(X.T).dot(Y)\n",
        "A = W[:3, :]\n",
        "B = W[3:, :]\n",
        "A = A.T\n",
        "B = B.T\n",
        "### end 2 ###\n",
        "\n",
        "# Do not modify the lines below\n",
        "assert(isinstance(A, np.ndarray))\n",
        "assert(isinstance(B, np.ndarray))\n",
        "assert(A.shape == (3,3))\n",
        "assert(B.shape == (3,3))\n",
        "assert(A.dtype == np.float64)\n",
        "assert(B.dtype == np.float64)\n",
        "\n",
        "print(\"A: \\n{}, \\nB: \\n{}\".format(A, B))"
      ]
    },
    {
      "cell_type": "markdown",
      "metadata": {
        "id": "a0BLWn1PW9E_",
        "nteract": {
          "transient": {
            "deleting": false
          }
        }
      },
      "source": [
        "## Part (f)\n",
        "\n",
        "Solving for the OLS formulation of (b)"
      ]
    },
    {
      "cell_type": "code",
      "execution_count": 40,
      "metadata": {
        "colab": {
          "base_uri": "https://localhost:8080/",
          "height": 236
        },
        "collapsed": true,
        "execution": {
          "iopub.execute_input": "2021-02-07T09:50:22.979Z",
          "iopub.status.busy": "2021-02-07T09:50:22.974Z",
          "iopub.status.idle": "2021-02-07T09:50:23.000Z",
          "shell.execute_reply": "2021-02-07T09:50:23.011Z"
        },
        "id": "uONbno5sW9E_",
        "jupyter": {
          "outputs_hidden": false,
          "source_hidden": false
        },
        "nteract": {
          "transient": {
            "deleting": false
          }
        },
        "outputId": "151d840b-2c93-458d-a813-a691f25bc387"
      },
      "outputs": [
        {
          "name": "stdout",
          "output_type": "stream",
          "text": [
            "A: \n",
            "[[ 0.15207406  0.93480864 -0.00110243]\n",
            " [ 0.03893567  0.30958727  0.87436511]\n",
            " [-0.52552959  0.0540906  -0.47026217]], \n",
            "B: \n",
            "[[ 0.04894161  0.20568264 -0.37090438]\n",
            " [-0.04524735 -0.92861546  0.12756569]\n",
            " [ 0.91096923 -0.47124981 -0.84222314]]\n"
          ]
        }
      ],
      "source": [
        "mdict = scipy.io.loadmat(\"{}b.mat\".format(path_prefix))\n",
        "X_raw = mdict['x']\n",
        "U_raw = mdict['u']\n",
        "\n",
        "# Required: write code below that produces two variables, A and B, which\n",
        "# are 3 x 3 float64 matrices of type numpy.ndarray that represent the \n",
        "# model parameters A and B\n",
        "\n",
        "### start 3 ###\n",
        "Vx = np.array(X_raw)\n",
        "Vx = Vx[:,:,0]\n",
        "Ty  = Vx[1:]\n",
        "Y = Ty.reshape(3*Ty.shape[0], 1)\n",
        "\n",
        "Vx = Vx[:-1]\n",
        "Vu = np.array(U_raw)\n",
        "Vu = Vu[:,:,0]\n",
        "Vu = Vu[:-1]\n",
        "x_t  = np.column_stack((Vx, Vu))\n",
        "X = np.zeros((3*Ty.shape[0], 18))\n",
        "j = 0 \n",
        "for i in range(x_t.shape[0]):\n",
        "    X[j,:6] = x_t[i,:]\n",
        "    j = j+1\n",
        "    X[j,6:12] = x_t[i,:]\n",
        "    j = j+1\n",
        "    X[j,12:] = x_t[i,:]\n",
        "    j=j+1\n",
        "\n",
        "W = np.linalg.inv((X.T).dot(X)).dot(X.T).dot(Y)\n",
        "va1 = np.array(W[:3,0])\n",
        "va2 = np.array(W[6:9,0])\n",
        "va3 = np.array(W[12:15,0])\n",
        "vb1 = np.array(W[3:6,0])\n",
        "vb2 = np.array(W[9:12,0])\n",
        "vb3 = np.array(W[15:,0])\n",
        "A = np.vstack((va1, va2, va3))\n",
        "B = np.vstack((vb1,vb2,vb3))\n",
        "### end 3 ###\n",
        "\n",
        "# Do not modify the lines below\n",
        "assert(isinstance(A, np.ndarray))\n",
        "assert(isinstance(B, np.ndarray))\n",
        "assert(A.shape == (3,3))\n",
        "assert(B.shape == (3,3))\n",
        "assert(A.dtype == np.float64)\n",
        "assert(B.dtype == np.float64)\n",
        "\n",
        "print(\"A: \\n{}, \\nB: \\n{}\".format(A, B))"
      ]
    }
  ],
  "metadata": {
    "colab": {
      "provenance": []
    },
    "kernelspec": {
      "display_name": "base",
      "language": "python",
      "name": "python3"
    },
    "language_info": {
      "codemirror_mode": {
        "name": "ipython",
        "version": 3
      },
      "file_extension": ".py",
      "mimetype": "text/x-python",
      "name": "python",
      "nbconvert_exporter": "python",
      "pygments_lexer": "ipython3",
      "version": "3.9.16"
    },
    "nteract": {
      "version": "0.25.0"
    },
    "vscode": {
      "interpreter": {
        "hash": "3d70e9f07f99987b65ac5de5089d49bcd0127921236aa99ef55ca0b3eb86b844"
      }
    }
  },
  "nbformat": 4,
  "nbformat_minor": 0
}
